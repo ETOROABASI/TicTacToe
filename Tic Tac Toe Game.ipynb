{
 "cells": [
  {
   "cell_type": "markdown",
   "id": "f6a30f2b",
   "metadata": {},
   "source": [
    "## TIC TAC TOE GAME"
   ]
  },
  {
   "cell_type": "code",
   "execution_count": 4,
   "id": "5229ba38",
   "metadata": {},
   "outputs": [],
   "source": [
    "from IPython.display import clear_output\n",
    "import time\n",
    "clear_output()"
   ]
  },
  {
   "cell_type": "code",
   "execution_count": 12,
   "id": "055a1785",
   "metadata": {},
   "outputs": [],
   "source": [
    "def default_dict():\n",
    "    \n",
    "    board_dict_str = {'1':1, '2':2, '3':3, '4':4, '5':5, '6':6, '7':7, '8':8, '9':9}  #not in use\n",
    "    board_dict = {1:1, 2:2, 3:3, 4:4, 5:5, 6:6, 7:7, 8:8, 9:9}   #i am using integers as key here."
   ]
  },
  {
   "cell_type": "code",
   "execution_count": 2,
   "id": "ec43d185",
   "metadata": {},
   "outputs": [],
   "source": [
    "#this fucntion displays the initial board structure and the posistion each number represents on the tic tac toe board\n",
    "def display_default_board():\n",
    "    \n",
    "    print('1 | 2 | 3 ')\n",
    "    print('__|_ _|__ ')\n",
    "    print('  |   |   ')\n",
    "    print('4 | 5 | 6 ')\n",
    "    print('__|___|__' )\n",
    "    print('  |   |   ')\n",
    "    print('7 | 8 | 9 ')\n",
    "    "
   ]
  },
  {
   "cell_type": "code",
   "execution_count": 3,
   "id": "2422d451",
   "metadata": {},
   "outputs": [
    {
     "name": "stdout",
     "output_type": "stream",
     "text": [
      "1 | 2 | 3 \n",
      "__|_ _|__ \n",
      "  |   |   \n",
      "4 | 5 | 6 \n",
      "__|___|__\n",
      "  |   |   \n",
      "7 | 8 | 9 \n"
     ]
    }
   ],
   "source": [
    "display_default_board()"
   ]
  },
  {
   "cell_type": "code",
   "execution_count": 4,
   "id": "c069847c",
   "metadata": {},
   "outputs": [],
   "source": [
    "#this function allows player 1 to select his letter \"X\" or \"O\" and player 2 automatically is the other letter\n",
    "def select_player_avatar():\n",
    "    player_1, player_2 = \"\",\"\"\n",
    "    selection = 'wrong'\n",
    "    acceptable_entry = ['X', 'O']\n",
    "    \n",
    "    while selection not in acceptable_entry:\n",
    "        selection = input('player 1 select your avatar: \"X\" or \"O\"').upper()\n",
    "        \n",
    "    player_1 = selection\n",
    "    \n",
    "    if player_1 == 'X':\n",
    "        player_2 = \"O\"\n",
    "    else:\n",
    "        player_2 = 'X'\n",
    "        \n",
    "    print(\"Player 1 is {} \\nPlayer 2 is {} \".format(player_1, player_2))\n",
    "        \n",
    "    return player_1, player_2"
   ]
  },
  {
   "cell_type": "code",
   "execution_count": 5,
   "id": "443ce787",
   "metadata": {
    "scrolled": true
   },
   "outputs": [
    {
     "name": "stdout",
     "output_type": "stream",
     "text": [
      "player 1 select your avatar: \"X\" or \"O\"x\n",
      "Player 1 is X \n",
      "Player 2 is O \n"
     ]
    },
    {
     "data": {
      "text/plain": [
       "('X', 'O')"
      ]
     },
     "execution_count": 5,
     "metadata": {},
     "output_type": "execute_result"
    }
   ],
   "source": [
    "select_player_avatar()"
   ]
  },
  {
   "cell_type": "code",
   "execution_count": 15,
   "id": "333cadcf",
   "metadata": {},
   "outputs": [],
   "source": [
    "#this function displays the new updated board based on the entry of the player\n",
    "\n",
    "def update_display_board(board_dict):\n",
    "    \n",
    "    \n",
    "    \n",
    "    \n",
    "    print('{} | {} | {} '.format(board_dict[1],board_dict[2],board_dict[3]))\n",
    "    print('__|_ _|__ ')\n",
    "    print('  |   |   ')\n",
    "    print('{} | {} | {} '.format(board_dict[4], board_dict[5], board_dict[6]))\n",
    "    print('__|___|__' )\n",
    "    print('  |   |   ')\n",
    "    print('{} | {} | {} '.format(board_dict[7], board_dict[8], board_dict[9]))\n",
    "    "
   ]
  },
  {
   "cell_type": "code",
   "execution_count": 16,
   "id": "3c4818a6",
   "metadata": {},
   "outputs": [
    {
     "name": "stdout",
     "output_type": "stream",
     "text": [
      "1 | X | O \n",
      "__|_ _|__ \n",
      "  |   |   \n",
      "4 | 5 | X \n",
      "__|___|__\n",
      "  |   |   \n",
      "7 | O | 9 \n"
     ]
    }
   ],
   "source": [
    "update_display_board({1:1, 2:'X', 3:'O', 4:4, 5:5, 6:'X', 7:7, 8:'O', 9:9})\n",
    "\n",
    "#board_dict = {1:1, 2:2, 3:3, 4:4, 5:5, 6:6, 7:7, 8:8, 9:9}"
   ]
  },
  {
   "cell_type": "code",
   "execution_count": 8,
   "id": "22b4a8cb",
   "metadata": {},
   "outputs": [],
   "source": [
    "#this function to indicate the postion to be updated and the player updating it\n",
    "\n",
    "\n",
    "def update_entry_position(player, position):\n",
    "    \n",
    "    board_dict = {'1':1, '2':2, '3':3, '4':4, '5':6, '6':6, '7':7, '8':8, '9':9}  #this would be a global variable\n",
    "    \n",
    "    board_dict[position] = player\n",
    "    \n",
    "    update_display_board(board_dict)   #this would be commmented out later"
   ]
  },
  {
   "cell_type": "code",
   "execution_count": 9,
   "id": "5b36bf73",
   "metadata": {},
   "outputs": [
    {
     "name": "stdout",
     "output_type": "stream",
     "text": [
      "1 | 2 | 3 \n",
      "__|_ _|__ \n",
      "  |   |   \n",
      "4 | 6 | 6 \n",
      "__|___|__\n",
      "  |   |   \n",
      "O | 8 | 9 \n"
     ]
    }
   ],
   "source": [
    "update_entry_position('O', '7')"
   ]
  },
  {
   "cell_type": "code",
   "execution_count": 40,
   "id": "426c0957",
   "metadata": {},
   "outputs": [],
   "source": [
    "#this function gets the player input and updates the dictionary to reflect the new entry\n",
    "def get_player_entry(player):\n",
    "    \n",
    "    selection = 'wrong'\n",
    "    acceptable_range = range(1,10)\n",
    "    while selection not in acceptable_range:\n",
    "        #print('PLAYER {}'.format(player))\n",
    "        selection = input(f'Player {player}: Make your entry from 1 to 9: ')\n",
    "        if selection.isdigit():\n",
    "            selection = int(selection)\n",
    "        \n",
    "        if selection not in acceptable_range:\n",
    "            print(\"Entry must be within 1 and 9 only\")\n",
    "            \n",
    "    \n",
    "    board_dict[int(selection)] = player\n",
    "    \n",
    "    #return player, int(selection)  - try to use the return and the update function above this\n",
    "    \n",
    "    \n",
    "            "
   ]
  },
  {
   "cell_type": "code",
   "execution_count": 37,
   "id": "9e2b5dab",
   "metadata": {},
   "outputs": [
    {
     "name": "stdout",
     "output_type": "stream",
     "text": [
      "PLAYER O\n",
      "Player O: Make your entry from 1 to 9: 4\n"
     ]
    }
   ],
   "source": [
    "get_player_entry('O')"
   ]
  },
  {
   "cell_type": "code",
   "execution_count": 23,
   "id": "edcfc3b7",
   "metadata": {},
   "outputs": [
    {
     "name": "stdout",
     "output_type": "stream",
     "text": [
      "1 | X | 3 \n",
      "__|_ _|__ \n",
      "  |   |   \n",
      "4 | 5 | O \n",
      "__|___|__\n",
      "  |   |   \n",
      "7 | 8 | 9 \n"
     ]
    }
   ],
   "source": [
    "update_display_board(board_dict)"
   ]
  },
  {
   "cell_type": "code",
   "execution_count": 24,
   "id": "dd07680d",
   "metadata": {},
   "outputs": [
    {
     "data": {
      "text/plain": [
       "{1: 1, 2: 'X', 3: 3, 4: 4, 5: 5, 6: 'O', 7: 7, 8: 8, 9: 9}"
      ]
     },
     "execution_count": 24,
     "metadata": {},
     "output_type": "execute_result"
    }
   ],
   "source": [
    "board_dict"
   ]
  },
  {
   "cell_type": "code",
   "execution_count": null,
   "id": "c04d97ab",
   "metadata": {},
   "outputs": [],
   "source": [
    "def continue_play():\n",
    "    \n",
    "    selection = 'wrong'\n",
    "    \n",
    "        \n",
    "    while input not in ['Y', 'N']:\n",
    "        \n",
    "        selection = input('Do you wish to Continue? \"Y\" or \"N\": ')\n",
    "        \n",
    "        \n",
    "    if selection == 'Y':\n",
    "        pass\n",
    "    \n",
    "    else:\n",
    "        pass\n",
    "        \n",
    "        \n",
    "        \n",
    "                      "
   ]
  },
  {
   "cell_type": "code",
   "execution_count": 19,
   "id": "79336ac0",
   "metadata": {},
   "outputs": [],
   "source": [
    "def game_validation(board_dict):\n",
    "    haswinner = False\n",
    "    result = \"None\"\n",
    "    winning_combinations = [[1,2,3],\n",
    "                               [4,5,6],\n",
    "                               [7,8,9],\n",
    "                               [1,4,7],\n",
    "                               [2,5,8],\n",
    "                               [3,6,9],\n",
    "                               [1,5,9],\n",
    "                               [3,5,7]]\n",
    "    \n",
    "    for i in winning_combinations:\n",
    "        if board_dict[i[0]] == board_dict[i[1]] == board_dict[i[2]]:\n",
    "            haswinner = True\n",
    "            \n",
    "        print(board_dict[i[1]])"
   ]
  },
  {
   "cell_type": "code",
   "execution_count": 21,
   "id": "0177b6a2",
   "metadata": {},
   "outputs": [],
   "source": [
    "board_dict = {1:1, 2:2, 3:3, 4:4, 5:\"X\", 6:6, 7:7, 8:8, 9:9}"
   ]
  },
  {
   "cell_type": "code",
   "execution_count": 22,
   "id": "4fc102af",
   "metadata": {},
   "outputs": [
    {
     "name": "stdout",
     "output_type": "stream",
     "text": [
      "2\n",
      "X\n",
      "8\n",
      "4\n",
      "X\n",
      "6\n",
      "X\n",
      "X\n"
     ]
    }
   ],
   "source": [
    "game_validation(board_dict)"
   ]
  },
  {
   "cell_type": "code",
   "execution_count": 64,
   "id": "7565ed52",
   "metadata": {},
   "outputs": [],
   "source": [
    "def gameplay():\n",
    "    default_dict() #initialize the default dictionary\n",
    "    player_1, player_2 = select_player_avatar() #each player selects their avatar\n",
    "    display_default_board() #print default board with the numpad\n",
    "    active = player_1        #make player 1 first player\n",
    "    i = 0\n",
    "    while i < 4:\n",
    "        get_player_entry(active)      #active player to make an entry\n",
    "        #print(board_dict)\n",
    "        clear_output()                  #clear the input \n",
    "        update_display_board(board_dict)\n",
    "        if active == player_1:\n",
    "            active = player_2\n",
    "        else:\n",
    "            active = player_1\n",
    "        \n",
    "        #time.sleep(6)\n",
    "        \n",
    "            \n",
    "        i+=1\n",
    "    "
   ]
  },
  {
   "cell_type": "code",
   "execution_count": 65,
   "id": "b83df644",
   "metadata": {
    "scrolled": true
   },
   "outputs": [
    {
     "name": "stdout",
     "output_type": "stream",
     "text": [
      "1 | X | O \n",
      "__|_ _|__ \n",
      "  |   |   \n",
      "X | O | O \n",
      "__|___|__\n",
      "  |   |   \n",
      "O | O | 9 \n"
     ]
    }
   ],
   "source": [
    "gameplay()"
   ]
  },
  {
   "cell_type": "code",
   "execution_count": 51,
   "id": "c2701153",
   "metadata": {},
   "outputs": [],
   "source": []
  }
 ],
 "metadata": {
  "kernelspec": {
   "display_name": "Python 3 (ipykernel)",
   "language": "python",
   "name": "python3"
  },
  "language_info": {
   "codemirror_mode": {
    "name": "ipython",
    "version": 3
   },
   "file_extension": ".py",
   "mimetype": "text/x-python",
   "name": "python",
   "nbconvert_exporter": "python",
   "pygments_lexer": "ipython3",
   "version": "3.11.5"
  }
 },
 "nbformat": 4,
 "nbformat_minor": 5
}
