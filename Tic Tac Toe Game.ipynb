{
 "cells": [
  {
   "cell_type": "markdown",
   "id": "f6a30f2b",
   "metadata": {},
   "source": [
    "## TIC TAC TOE GAME"
   ]
  },
  {
   "cell_type": "code",
   "execution_count": 117,
   "id": "5229ba38",
   "metadata": {},
   "outputs": [],
   "source": [
    "from IPython.display import clear_output\n",
    "import time\n",
    "clear_output()\n",
    "board_dict = None  #initialize the default dictionary - this is a global variable to be assessible everywhere"
   ]
  },
  {
   "cell_type": "code",
   "execution_count": 77,
   "id": "055a1785",
   "metadata": {},
   "outputs": [],
   "source": [
    "def default_dict():\n",
    "    \n",
    "    board_dict_str = {'1':1, '2':2, '3':3, '4':4, '5':5, '6':6, '7':7, '8':8, '9':9}  #not in use\n",
    "    return {1:1, 2:2, 3:3, 4:4, 5:5, 6:6, 7:7, 8:8, 9:9}   #i am using integers as key here."
   ]
  },
  {
   "cell_type": "code",
   "execution_count": 78,
   "id": "ec43d185",
   "metadata": {},
   "outputs": [],
   "source": [
    "#this fucntion displays the initial board structure and the posistion each number represents on the tic tac toe board\n",
    "def display_default_board():\n",
    "    \n",
    "    print('1 | 2 | 3 ')\n",
    "    print('__|_ _|__ ')\n",
    "    print('  |   |   ')\n",
    "    print('4 | 5 | 6 ')\n",
    "    print('__|___|__' )\n",
    "    print('  |   |   ')\n",
    "    print('7 | 8 | 9 ')\n",
    "    "
   ]
  },
  {
   "cell_type": "code",
   "execution_count": 79,
   "id": "2422d451",
   "metadata": {},
   "outputs": [
    {
     "name": "stdout",
     "output_type": "stream",
     "text": [
      "1 | 2 | 3 \n",
      "__|_ _|__ \n",
      "  |   |   \n",
      "4 | 5 | 6 \n",
      "__|___|__\n",
      "  |   |   \n",
      "7 | 8 | 9 \n"
     ]
    }
   ],
   "source": [
    "display_default_board()"
   ]
  },
  {
   "cell_type": "code",
   "execution_count": 80,
   "id": "c069847c",
   "metadata": {},
   "outputs": [],
   "source": [
    "#this function allows player 1 to select his letter \"X\" or \"O\" and player 2 automatically is the other letter\n",
    "def select_player_avatar():\n",
    "    player_1, player_2 = \"\",\"\"\n",
    "    selection = 'wrong'\n",
    "    acceptable_entry = ['X', 'O']\n",
    "    \n",
    "    while selection not in acceptable_entry:\n",
    "        selection = input('player 1 select your avatar: \"X\" or \"O\"').upper()\n",
    "        \n",
    "    player_1 = selection\n",
    "    \n",
    "    if player_1 == 'X':\n",
    "        player_2 = \"O\"\n",
    "    else:\n",
    "        player_2 = 'X'\n",
    "        \n",
    "    print(\"Player 1 is {} \\nPlayer 2 is {} \".format(player_1, player_2))\n",
    "        \n",
    "    return player_1, player_2"
   ]
  },
  {
   "cell_type": "code",
   "execution_count": 81,
   "id": "443ce787",
   "metadata": {
    "scrolled": true
   },
   "outputs": [
    {
     "name": "stdout",
     "output_type": "stream",
     "text": [
      "player 1 select your avatar: \"X\" or \"O\"x\n",
      "Player 1 is X \n",
      "Player 2 is O \n"
     ]
    },
    {
     "data": {
      "text/plain": [
       "('X', 'O')"
      ]
     },
     "execution_count": 81,
     "metadata": {},
     "output_type": "execute_result"
    }
   ],
   "source": [
    "select_player_avatar()"
   ]
  },
  {
   "cell_type": "code",
   "execution_count": 82,
   "id": "333cadcf",
   "metadata": {},
   "outputs": [],
   "source": [
    "#this function displays the new updated board based on the entry of the player\n",
    "\n",
    "def update_display_board(board_dict):\n",
    "    \n",
    "    \n",
    "    \n",
    "    \n",
    "    print('{} | {} | {} '.format(board_dict[1],board_dict[2],board_dict[3]))\n",
    "    print('__|_ _|__ ')\n",
    "    print('  |   |   ')\n",
    "    print('{} | {} | {} '.format(board_dict[4], board_dict[5], board_dict[6]))\n",
    "    print('__|___|__' )\n",
    "    print('  |   |   ')\n",
    "    print('{} | {} | {} '.format(board_dict[7], board_dict[8], board_dict[9]))\n",
    "    "
   ]
  },
  {
   "cell_type": "code",
   "execution_count": 83,
   "id": "3c4818a6",
   "metadata": {},
   "outputs": [
    {
     "name": "stdout",
     "output_type": "stream",
     "text": [
      "1 | X | O \n",
      "__|_ _|__ \n",
      "  |   |   \n",
      "4 | 5 | X \n",
      "__|___|__\n",
      "  |   |   \n",
      "7 | O | 9 \n"
     ]
    }
   ],
   "source": [
    "update_display_board({1:1, 2:'X', 3:'O', 4:4, 5:5, 6:'X', 7:7, 8:'O', 9:9})\n",
    "\n",
    "#board_dict = {1:1, 2:2, 3:3, 4:4, 5:5, 6:6, 7:7, 8:8, 9:9}"
   ]
  },
  {
   "cell_type": "code",
   "execution_count": 84,
   "id": "22b4a8cb",
   "metadata": {},
   "outputs": [],
   "source": [
    "#this function to indicate the postion to be updated and the player updating it\n",
    "\n",
    "\n",
    "def update_entry_position(player, position):\n",
    "    \n",
    "    #board_dict = {'1':1, '2':2, '3':3, '4':4, '5':6, '6':6, '7':7, '8':8, '9':9}  #this would be a global variable\n",
    "    \n",
    "    board_dict[position] = player\n",
    "    \n",
    "    update_display_board(board_dict)   #this would be commmented out later"
   ]
  },
  {
   "cell_type": "code",
   "execution_count": 85,
   "id": "5b36bf73",
   "metadata": {},
   "outputs": [
    {
     "name": "stdout",
     "output_type": "stream",
     "text": [
      "X | O | X \n",
      "__|_ _|__ \n",
      "  |   |   \n",
      "O | X | O \n",
      "__|___|__\n",
      "  |   |   \n",
      "O | X | O \n"
     ]
    }
   ],
   "source": [
    "update_entry_position('O', 7)"
   ]
  },
  {
   "cell_type": "code",
   "execution_count": 86,
   "id": "426c0957",
   "metadata": {},
   "outputs": [],
   "source": [
    "#this function gets the player input and updates the dictionary to reflect the new entry\n",
    "def get_player_entry(player):\n",
    "    \n",
    "    selection = 'wrong'\n",
    "    acceptable_range = range(1,10)\n",
    "    while selection not in acceptable_range:\n",
    "        #print('PLAYER {}'.format(player))\n",
    "        selection = input(f'Player {player}: Make your entry from 1 to 9: ')\n",
    "        if selection.isdigit():\n",
    "            selection = int(selection)\n",
    "        \n",
    "        if selection not in acceptable_range:\n",
    "            print(\"Entry must be within 1 and 9 only\")\n",
    "            \n",
    "    \n",
    "    board_dict[int(selection)] = player\n",
    "    \n",
    "    #return player, int(selection)  - try to use the return and the update function above this\n",
    "    \n",
    "    \n",
    "            "
   ]
  },
  {
   "cell_type": "code",
   "execution_count": 87,
   "id": "9e2b5dab",
   "metadata": {},
   "outputs": [
    {
     "name": "stdout",
     "output_type": "stream",
     "text": [
      "Player O: Make your entry from 1 to 9: 4\n"
     ]
    }
   ],
   "source": [
    "#get_player_entry('O')"
   ]
  },
  {
   "cell_type": "code",
   "execution_count": 88,
   "id": "edcfc3b7",
   "metadata": {},
   "outputs": [
    {
     "name": "stdout",
     "output_type": "stream",
     "text": [
      "X | O | X \n",
      "__|_ _|__ \n",
      "  |   |   \n",
      "O | X | O \n",
      "__|___|__\n",
      "  |   |   \n",
      "O | X | O \n"
     ]
    }
   ],
   "source": [
    "update_display_board(board_dict)"
   ]
  },
  {
   "cell_type": "code",
   "execution_count": 89,
   "id": "dd07680d",
   "metadata": {},
   "outputs": [
    {
     "data": {
      "text/plain": [
       "{1: 'X',\n",
       " 2: 'O',\n",
       " 3: 'X',\n",
       " 4: 'O',\n",
       " 5: 'X',\n",
       " 6: 'O',\n",
       " 7: 'O',\n",
       " 8: 'X',\n",
       " 9: 'O',\n",
       " '7': 'O'}"
      ]
     },
     "execution_count": 89,
     "metadata": {},
     "output_type": "execute_result"
    }
   ],
   "source": [
    "#board_dict"
   ]
  },
  {
   "cell_type": "code",
   "execution_count": null,
   "id": "c04d97ab",
   "metadata": {},
   "outputs": [],
   "source": [
    "def continue_play():\n",
    "    \n",
    "    selection = 'wrong'\n",
    "    \n",
    "        \n",
    "    while input not in ['Y', 'N']:\n",
    "        \n",
    "        selection = input('Do you wish to Continue? \"Y\" or \"N\": ')\n",
    "        \n",
    "        \n",
    "    if selection == 'Y':\n",
    "        pass\n",
    "    \n",
    "    else:\n",
    "        pass\n",
    "        \n",
    "        \n",
    "        \n",
    "                      "
   ]
  },
  {
   "cell_type": "code",
   "execution_count": 90,
   "id": "79336ac0",
   "metadata": {},
   "outputs": [],
   "source": [
    "#this function validates if there is a winner or there is a draw\n",
    "def game_validation(board_dict):\n",
    "    has_winner = False    #logic to check if game should still valid to be played\n",
    "    result = \"None\"     #result of the game\n",
    "    \n",
    "    all_values = all(value == 'X' or value == 'O' for value in board_dict.values())  #check if all spaces on the board has been filled\n",
    "    \n",
    "    #all possible winning combinations\n",
    "    winning_combinations = [[1,2,3],\n",
    "                               [4,5,6],\n",
    "                               [7,8,9],\n",
    "                               [1,4,7],\n",
    "                               [2,5,8],\n",
    "                               [3,6,9],\n",
    "                               [1,5,9],\n",
    "                               [3,5,7]]\n",
    "    \n",
    "    #if there is a winning combination, update winner bool and the result\n",
    "    for i in winning_combinations:\n",
    "        if board_dict[i[0]] == board_dict[i[1]] == board_dict[i[2]]:\n",
    "            has_winner = True\n",
    "            result = board_dict[i[0]]\n",
    "            break\n",
    "    \n",
    "    #all all spaces has been filled and there is no winning combination\n",
    "    if all_values and not has_winner:\n",
    "        result = 'Draw'\n",
    "        has_winner = True\n",
    "        \n",
    "    return result, has_winner    \n",
    "    #print(result, has_winner)"
   ]
  },
  {
   "cell_type": "code",
   "execution_count": 91,
   "id": "5647aa12",
   "metadata": {},
   "outputs": [],
   "source": [
    "#board_dict = {1:'X', 2:'O', 3:'X', 4:'O', 5:\"X\", 6:'O', 7:'O', 8:'X', 9:'O'}"
   ]
  },
  {
   "cell_type": "code",
   "execution_count": 92,
   "id": "4fc102af",
   "metadata": {},
   "outputs": [
    {
     "data": {
      "text/plain": [
       "('Draw', True)"
      ]
     },
     "execution_count": 92,
     "metadata": {},
     "output_type": "execute_result"
    }
   ],
   "source": [
    "#game_validation(board_dict)"
   ]
  },
  {
   "cell_type": "code",
   "execution_count": 93,
   "id": "0366c82e",
   "metadata": {},
   "outputs": [
    {
     "name": "stdout",
     "output_type": "stream",
     "text": [
      "X | O | X \n",
      "__|_ _|__ \n",
      "  |   |   \n",
      "O | X | O \n",
      "__|___|__\n",
      "  |   |   \n",
      "O | X | O \n"
     ]
    }
   ],
   "source": [
    "#update_display_board(board_dict)"
   ]
  },
  {
   "cell_type": "code",
   "execution_count": 109,
   "id": "b194dcc3",
   "metadata": {},
   "outputs": [],
   "source": [
    "def display_result(result):\n",
    "    if result not in ('X', 'O'):\n",
    "        print(\"Game Ended.... Result is a DRAW: Better Luck next time\")\n",
    "        \n",
    "    else:\n",
    "        print('We got a Winner. Congratulations Player {}!!!'.format(result))"
   ]
  },
  {
   "cell_type": "code",
   "execution_count": 119,
   "id": "7565ed52",
   "metadata": {},
   "outputs": [],
   "source": [
    "\n",
    "def gameplay():\n",
    "    global board_dict\n",
    "    board_dict = default_dict()  #assign the default view to the global varaible\n",
    "    player_1, player_2 = select_player_avatar() #each player selects their avatar\n",
    "    display_default_board() #print default board with the numpad\n",
    "    active = player_1        #make player 1 first player\n",
    "    has_winner = False   #initialize the validation\n",
    "    i = 0\n",
    "    while not has_winner:\n",
    "        get_player_entry(active)      #active player to make an entry\n",
    "        result, has_winner = game_validation(board_dict) #run the validation function after each valid entry\n",
    "        #print(board_dict)\n",
    "        clear_output()                  #clear the input \n",
    "        update_display_board(board_dict)   #display the updated board\n",
    "        \n",
    "        #switch active player\n",
    "        if active == player_1:    \n",
    "            active = player_2\n",
    "        else:\n",
    "            active = player_1\n",
    "            \n",
    "    \n",
    "\n",
    "        \n",
    "        #time.sleep(6)\n",
    "        \n",
    "    display_result(result)"
   ]
  },
  {
   "cell_type": "code",
   "execution_count": 121,
   "id": "b83df644",
   "metadata": {
    "scrolled": true
   },
   "outputs": [
    {
     "name": "stdout",
     "output_type": "stream",
     "text": [
      "O | X | O \n",
      "__|_ _|__ \n",
      "  |   |   \n",
      "X | X | O \n",
      "__|___|__\n",
      "  |   |   \n",
      "X | O | X \n",
      "Game Ended.... Result is a DRAW: Better Luck next time\n"
     ]
    }
   ],
   "source": [
    "gameplay()"
   ]
  },
  {
   "cell_type": "code",
   "execution_count": 51,
   "id": "c2701153",
   "metadata": {},
   "outputs": [],
   "source": []
  }
 ],
 "metadata": {
  "kernelspec": {
   "display_name": "Python 3 (ipykernel)",
   "language": "python",
   "name": "python3"
  },
  "language_info": {
   "codemirror_mode": {
    "name": "ipython",
    "version": 3
   },
   "file_extension": ".py",
   "mimetype": "text/x-python",
   "name": "python",
   "nbconvert_exporter": "python",
   "pygments_lexer": "ipython3",
   "version": "3.11.5"
  }
 },
 "nbformat": 4,
 "nbformat_minor": 5
}
